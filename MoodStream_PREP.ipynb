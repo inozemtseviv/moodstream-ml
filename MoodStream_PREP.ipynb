{
 "cells": [
  {
   "cell_type": "markdown",
   "id": "78e92282",
   "metadata": {},
   "source": [
    "# MoodStream: подготовка данных"
   ]
  },
  {
   "cell_type": "markdown",
   "id": "c7a41bc0",
   "metadata": {},
   "source": [
    "## Датасеты"
   ]
  },
  {
   "cell_type": "markdown",
   "id": "64cc7518",
   "metadata": {},
   "source": [
    "Необходимые данные:\n",
    "- постер\n",
    "- жанр\n",
    "- продолжительность/количество страниц\n",
    "- рейтинг\n",
    "- идентификатор пользователя\n",
    "- рейтинг отзыва\n",
    "\n",
    "Жанр, продолжительность и рейтинг позволяют решать задачу подбора \"в лоб\", а датасеты с отзывами позволят подобрать похожих на пользователя рецензентов и сделать выдачу более релевантной."
   ]
  },
  {
   "cell_type": "markdown",
   "id": "c5461c38",
   "metadata": {},
   "source": [
    "https://www.kaggle.com/datasets/harshitshankhdhar/imdb-dataset-of-top-1000-movies-and-tv-shows 1000 фильмов, постер, название, продолжительность, жанр, год выхода\n",
    "\n",
    "https://www.kaggle.com/datasets/ashishjangra27/imdb-movies-dataset 2.5М фильмов, название, продолжительность, жанр, год выхода\n",
    "\n",
    "https://zenodo.org/record/7665868#.ZElLGn7P3zc название, дата выхода, жанр, отзывы с оценками\n",
    "\n",
    "https://www.kaggle.com/datasets/whenamancodes/popular-movies-datasets-58000-movies название, отзывы с оценками\n",
    "\n",
    "https://www.kaggle.com/datasets/veeralakrishna/movielens-25m-dataset название, отзывы с оценками\n",
    "\n",
    "https://www.kaggle.com/datasets/devanshiipatel/imdb-tv-shows 2986 сериалов, название, продолжительность эпизода, жанр, годы выхода\n",
    "\n",
    "\n",
    "---\n",
    "\n",
    "\n",
    "https://www.kaggle.com/datasets/arashnic/book-recommendation-dataset : 271360 книг, названия, средние изображения, оценки пользователей\n",
    "\n",
    "https://www.kaggle.com/datasets/ruchi798/bookcrossing-dataset : 271379 книг, названия, средние изображения, оценки пользователей\n",
    "\n",
    "https://www.kaggle.com/datasets/bahramjannesarr/goodreads-book-datasets-10m : 2М книг, названия, количество страниц\n",
    "\n",
    "https://www.kaggle.com/datasets/mohamedbakhet/amazon-books-reviews : 212404 книг, названия, средние изображения, жанры, оценки пользователей\n",
    "\n",
    "https://www.kaggle.com/datasets/thedevastator/comprehensive-overview-of-52478-goodreads-best-b жанры\n",
    "\n",
    "https://www.kaggle.com/datasets/michaelrussell4/10000-books-and-their-genres-standardized жанры\n",
    "\n",
    "---\n",
    "\n",
    "\n",
    "https://www.kaggle.com/datasets/maharshipandya/-spotify-tracks-dataset 89741 песен, название, артист, продолжительность в мс, танцевальность, энергичность\n",
    "\n",
    "https://www.kaggle.com/datasets/zaheenhamidani/ultimate-spotify-tracks-db 176774 песен, название, артист, жанр, продолжительность в мс, танцевальность, энергичность, акустичность, инструменталичность\n",
    "\n",
    "https://www.kaggle.com/datasets/paradisejoy/top-hits-spotify-from-20002019 1879 песен, название, артист, продолжительность в мс, танцевальность, энергичность\n",
    "\n",
    "https://www.kaggle.com/datasets/yamaerenay/spotify-dataset-19212020-600k-tracks 586672 песен, название, артист, продолжительность в мс, танцевальность, энергичность\n",
    "\n",
    "https://www.kaggle.com/datasets/cbhavik/music-taste-recommendation есть пользователи и лайки. данные песен обезличены, поэтому можно использовать для моков\n",
    "\n",
    "https://www.kaggle.com/datasets/muhmores/spotify-top-100-songs-of-20152019 название, артист, жанр"
   ]
  },
  {
   "cell_type": "markdown",
   "id": "6ae688cb",
   "metadata": {},
   "source": [
    "## Предобработка данных по фильмам"
   ]
  },
  {
   "cell_type": "markdown",
   "id": "f7e80637",
   "metadata": {},
   "source": [
    "### Импорты"
   ]
  },
  {
   "cell_type": "code",
   "execution_count": null,
   "id": "809d29b9",
   "metadata": {},
   "outputs": [],
   "source": [
    "import pandas as pd\n",
    "import os"
   ]
  },
  {
   "cell_type": "markdown",
   "id": "2e9ccb09",
   "metadata": {},
   "source": [
    "### IMDB Movies TOP-1000"
   ]
  },
  {
   "cell_type": "code",
   "execution_count": null,
   "id": "0e505237",
   "metadata": {},
   "outputs": [],
   "source": [
    "# https://www.kaggle.com/datasets/harshitshankhdhar/imdb-dataset-of-top-1000-movies-and-tv-shows\n",
    "IMDB_TOP_1000_PATH = './datasets/src/movies/imdb-dataset-of-top-1000-movies-and-tv-shows.csv'\n",
    "df1 = pd.read_csv(IMDB_TOP_1000_PATH)\n",
    "df1 = df1[['Poster_Link', 'Series_Title', 'Released_Year', 'Genre', 'IMDB_Rating']]\n",
    "df1 = df1.rename(columns={'Series_Title': 'Title'})\n",
    "df1['token'] = df1['Title'].str.lower()\n",
    "df1['token'] = df1['token'].str.replace(pat='[^\\w]', repl='', regex=True)\n",
    "\n",
    "df1.head(5)"
   ]
  },
  {
   "cell_type": "markdown",
   "id": "877b1283",
   "metadata": {},
   "source": [
    "### Movies and Ratings"
   ]
  },
  {
   "cell_type": "code",
   "execution_count": null,
   "id": "06728563",
   "metadata": {},
   "outputs": [],
   "source": [
    "# https://zenodo.org/record/7665868#.ZElLGn7P3zc \n",
    "MOVIE_LENS_45K_MOVIES_PATH = './datasets/src/movies/ZElLGn7P3zc/movies.csv' \n",
    "df2_movies = pd.read_csv(MOVIE_LENS_45K_MOVIES_PATH, delimiter='\\t')\n",
    "df2_movies['token'] = df2_movies['Title'].str.lower()\n",
    "df2_movies['token'] = df2_movies['token'].str.replace(pat='[^\\w]', repl='', regex=True)\n",
    "\n",
    "df2_movies.head()"
   ]
  },
  {
   "cell_type": "code",
   "execution_count": null,
   "id": "fdbc129b",
   "metadata": {},
   "outputs": [],
   "source": [
    "MOVIE_LENS_26M_RATINGS_PATH = './datasets/src/movies/ZElLGn7P3zc/ratings.csv'\n",
    "df2_ratings = pd.read_csv(MOVIE_LENS_26M_RATINGS_PATH)\n",
    "df2_ratings.head()"
   ]
  },
  {
   "cell_type": "markdown",
   "id": "a467bd40",
   "metadata": {},
   "source": [
    "### Подготовка результирующих датасетов"
   ]
  },
  {
   "cell_type": "markdown",
   "id": "9ed1b788",
   "metadata": {},
   "source": [
    "В исходных датасетах по фильмам добавлено поле `token`, куда помещено обработанное название фильма - в нижнем регистре, без знаков препинания и пробелов. По этому полю и будет производиться объединение."
   ]
  },
  {
   "cell_type": "code",
   "execution_count": null,
   "id": "3b5b3fbb",
   "metadata": {},
   "outputs": [],
   "source": [
    "df = df1.merge(df2_movies, on='token')\n",
    "df.head(5)"
   ]
  },
  {
   "cell_type": "code",
   "execution_count": null,
   "id": "033fa538",
   "metadata": {},
   "outputs": [],
   "source": [
    "df.info()"
   ]
  },
  {
   "cell_type": "markdown",
   "id": "4016746e",
   "metadata": {},
   "source": [
    "Необходимо переименовать колонки и оставить в датафрейме только нужные."
   ]
  },
  {
   "cell_type": "code",
   "execution_count": null,
   "id": "4c9bbbdf",
   "metadata": {
    "scrolled": true
   },
   "outputs": [],
   "source": [
    "movie_df = df.rename(columns={'Poster_Link': 'poster', 'Title_x': 'title', 'Released_Year': 'year', 'IMDB_Rating': 'imdb_rating', 'MovieID': 'movie_id', 'Genres': 'genres'})\n",
    "movie_df = movie_df[['poster', 'title', 'year', 'imdb_rating', 'movie_id', 'genres']]\n",
    "movie_df = movie_df[movie_df['genres'] != '[]']\n",
    "movie_df.head(5)"
   ]
  },
  {
   "cell_type": "markdown",
   "id": "98697be2",
   "metadata": {},
   "source": [
    "Требуется предварительная обработка списка жанров - по какой-то причине из файла некорректно считываются строки с жанрами и их надо дополнительно обрабатывать."
   ]
  },
  {
   "cell_type": "code",
   "execution_count": null,
   "id": "e32414c7",
   "metadata": {},
   "outputs": [],
   "source": [
    "import json\n",
    "\n",
    "def format_genres(genres):\n",
    "    try:\n",
    "        valid_json = \"\\\"\" + genres\n",
    "        valid_json = valid_json.replace(\"\\\\\", \"\\\\\\\"\", 1)\n",
    "        result = json.loads(json.loads(valid_json))\n",
    "        return ','.join(list(map(lambda x: x['name'].lower(), result)))\n",
    "    except:\n",
    "        return []\n",
    "\n",
    "movie_df['genres'] = movie_df['genres'].apply(format_genres)\n",
    "movie_df.head(5)"
   ]
  },
  {
   "cell_type": "markdown",
   "id": "809b65de",
   "metadata": {},
   "source": [
    "Заменяю ссылку на постер - делаю большего размера."
   ]
  },
  {
   "cell_type": "code",
   "execution_count": null,
   "id": "048f6210",
   "metadata": {},
   "outputs": [],
   "source": [
    "movie_df['poster'] = movie_df['poster'].str.replace('_V1_UX67_CR0,0,67,98_AL_', '_V1_UX268_CR0,0,268,392_AL_')\n",
    "movie_df.head(5)"
   ]
  },
  {
   "cell_type": "markdown",
   "id": "180ee7a8",
   "metadata": {},
   "source": [
    "Анализирую и удаляю дубли"
   ]
  },
  {
   "cell_type": "code",
   "execution_count": null,
   "id": "bc62330c",
   "metadata": {
    "scrolled": true
   },
   "outputs": [],
   "source": [
    "movie_df[movie_df.duplicated()]"
   ]
  },
  {
   "cell_type": "markdown",
   "id": "fd9cca23",
   "metadata": {},
   "source": [
    "Кажется, что дублей совсем уж мало. Попробую оставить только те колонки, комбинация которых указывает на то, что это - не дубль."
   ]
  },
  {
   "cell_type": "code",
   "execution_count": null,
   "id": "a8837c61",
   "metadata": {},
   "outputs": [],
   "source": [
    "movie_df_dup_test = movie_df[['title', 'year', 'imdb_rating']]\n",
    "movie_df_dup_test[movie_df_dup_test.duplicated()]"
   ]
  },
  {
   "cell_type": "markdown",
   "id": "70e8bac7",
   "metadata": {},
   "source": [
    "Оказывается, дубликатов довольно много. Избавлюсь от них."
   ]
  },
  {
   "cell_type": "code",
   "execution_count": null,
   "id": "d149f293",
   "metadata": {},
   "outputs": [],
   "source": [
    "movie_df_dup_test = movie_df_dup_test.drop_duplicates()\n",
    "movie_df = movie_df[movie_df.index.isin(movie_df_dup_test.index)]\n",
    "movie_df.head(5)"
   ]
  },
  {
   "cell_type": "markdown",
   "id": "03cdb3c7",
   "metadata": {},
   "source": [
    "Отфильтрую датафрейм с отзывами по оставшимся фильмам"
   ]
  },
  {
   "cell_type": "code",
   "execution_count": null,
   "id": "30fc928e",
   "metadata": {},
   "outputs": [],
   "source": [
    "rating_df = df2_ratings[df2_ratings['movieId'].isin(movie_df['movie_id'])]\n",
    "rating_df.head(5)"
   ]
  },
  {
   "cell_type": "markdown",
   "id": "0023a4ae",
   "metadata": {},
   "source": [
    "Переименую колонки и оставлю только необходимые"
   ]
  },
  {
   "cell_type": "code",
   "execution_count": null,
   "id": "53ead8d1",
   "metadata": {},
   "outputs": [],
   "source": [
    "rating_df = rating_df[['userId', 'movieId', 'rating']]\n",
    "rating_df = rating_df.rename(columns={'userId': 'user_id', 'movieId': 'movie_id'})\n",
    "rating_df.head(5)"
   ]
  },
  {
   "cell_type": "markdown",
   "id": "f64fc568",
   "metadata": {},
   "source": [
    "Сохраню датафреймы в файлы.\n",
    "Т.к. в ссылках на постеры и названиях фильмов есть запятые, то в качестве разделителя использую таб."
   ]
  },
  {
   "cell_type": "code",
   "execution_count": null,
   "id": "3a61c200",
   "metadata": {},
   "outputs": [],
   "source": [
    "os.makedirs('./datasets/movies', exist_ok=True)\n",
    "\n",
    "movie_df.to_csv('./datasets/movies/movies.zip',\n",
    "          sep='\\t', \n",
    "          index=False,\n",
    "          compression=dict(method='zip',\n",
    "                        archive_name='movies.csv'))\n",
    "\n",
    "rating_df.to_csv('./datasets/movies/ratings.zip',\n",
    "          sep='\\t', \n",
    "          index=False,\n",
    "          compression=dict(method='zip',\n",
    "                        archive_name='ratings.csv'))"
   ]
  },
  {
   "cell_type": "code",
   "execution_count": null,
   "id": "e2ba800d",
   "metadata": {},
   "outputs": [],
   "source": []
  }
 ],
 "metadata": {
  "kernelspec": {
   "display_name": "Python 3 (ipykernel)",
   "language": "python",
   "name": "python3"
  },
  "language_info": {
   "codemirror_mode": {
    "name": "ipython",
    "version": 3
   },
   "file_extension": ".py",
   "mimetype": "text/x-python",
   "name": "python",
   "nbconvert_exporter": "python",
   "pygments_lexer": "ipython3",
   "version": "3.10.9"
  }
 },
 "nbformat": 4,
 "nbformat_minor": 5
}
