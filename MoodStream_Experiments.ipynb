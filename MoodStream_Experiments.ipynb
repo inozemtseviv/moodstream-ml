{
 "cells": [
  {
   "cell_type": "markdown",
   "id": "78e92282",
   "metadata": {},
   "source": [
    "# MoodStream: Эксперименты "
   ]
  },
  {
   "cell_type": "markdown",
   "id": "fbd2275e",
   "metadata": {},
   "source": [
    "Основная задача заключается в подборе модели с удовлетворительным процентом ошибок и приемлемым временем выполнения.\n",
    "\n",
    "---"
   ]
  },
  {
   "cell_type": "markdown",
   "id": "f8ac9e01",
   "metadata": {},
   "source": [
    "## Импорты"
   ]
  },
  {
   "cell_type": "code",
   "execution_count": 1,
   "id": "0f13b1ea",
   "metadata": {},
   "outputs": [],
   "source": [
    "import pandas as pd\n",
    "import numpy as np\n",
    "import requests, zipfile, io\n",
    "from sklearn.metrics.pairwise import cosine_similarity\n",
    "import dotenv\n",
    "\n",
    "from clearml import Dataset, Task, Logger\n"
   ]
  },
  {
   "cell_type": "markdown",
   "id": "b1c1e8f3",
   "metadata": {},
   "source": [
    "## ENV"
   ]
  },
  {
   "cell_type": "code",
   "execution_count": 2,
   "id": "7b97a73a",
   "metadata": {},
   "outputs": [
    {
     "name": "stdout",
     "output_type": "stream",
     "text": [
      "env: CLEARML_WEB_HOST=https://app.clear.ml\n",
      "env: CLEARML_API_HOST=https://api.clear.ml\n",
      "env: CLEARML_FILES_HOST=https://files.clear.ml\n"
     ]
    }
   ],
   "source": [
    "# В корне необходим файл .env, устанавливающий значения для переменных CLEARML_API_ACCESS_KEY и CLEARML_API_SECRET_KEY\n",
    "%env CLEARML_WEB_HOST=https://app.clear.ml\n",
    "%env CLEARML_API_HOST=https://api.clear.ml\n",
    "%env CLEARML_FILES_HOST=https://files.clear.ml\n",
    "    \n",
    "%load_ext dotenv\n",
    "%dotenv\n",
    "\n",
    "RANDOM_STATE=43"
   ]
  },
  {
   "cell_type": "markdown",
   "id": "62645f58",
   "metadata": {},
   "source": [
    "## Данные"
   ]
  },
  {
   "cell_type": "markdown",
   "id": "bb57dc2f",
   "metadata": {},
   "source": [
    "### Фильмы"
   ]
  },
  {
   "cell_type": "code",
   "execution_count": 48,
   "id": "c1840cb3",
   "metadata": {},
   "outputs": [
    {
     "data": {
      "text/plain": [
       "258768"
      ]
     },
     "execution_count": 48,
     "metadata": {},
     "output_type": "execute_result"
    }
   ],
   "source": [
    "movies_dataset = Dataset.get(\n",
    "    dataset_id='d83616f806ab4067aa7d79acb9e16f21',  \n",
    "    only_completed=True, \n",
    "    auto_create=False\n",
    ")\n",
    "movies_dataset_local_path = movies_dataset.get_local_copy()\n",
    "movies_data_df = pd.read_csv(f'{movies_dataset_local_path}/movies.csv', sep='\\t')\n",
    "movies_ratings_df = pd.read_csv(f'{movies_dataset_local_path}/ratings.csv', sep='\\t')\n",
    "movies_genres_df = pd.read_csv(f'{movies_dataset_local_path}/genres.csv', sep='\\t')"
   ]
  },
  {
   "cell_type": "code",
   "execution_count": 4,
   "id": "cea6ca5d",
   "metadata": {},
   "outputs": [],
   "source": [
    "def get_formatted_movies_ratings():\n",
    "    # форматирую датафрейм: последовательные идентификаторы для пользователей\n",
    "    movies_ratings_df_new = movies_ratings_df.copy()\n",
    "    movies_ratings_df_new_users = movies_ratings_df_new['user_id'].unique()\n",
    "    movies_ratings_df_new_users = pd.DataFrame(movies_ratings_df_new_users, columns=['user_id'])\n",
    "    movies_ratings_df_new_users['new_user_id'] = movies_ratings_df_new_users.apply(lambda x: x.index)\n",
    "    movies_ratings_df_new = movies_ratings_df_new.merge(movies_ratings_df_new_users, on='user_id', how='left')\n",
    "\n",
    "    # форматирую датафрейм: последовательные идентификаторы для фильмов\n",
    "    movies_ratings_df_new_movies = movies_ratings_df_new['movie_id'].unique()\n",
    "    movies_ratings_df_new_movies = pd.DataFrame(movies_ratings_df_new_movies, columns=['movie_id'])\n",
    "    movies_ratings_df_new_movies['item_id'] = movies_ratings_df_new_movies.apply(lambda x: x.index)\n",
    "    movies_ratings_df_new = movies_ratings_df_new.merge(movies_ratings_df_new_movies, on='movie_id', how='left')\n",
    "\n",
    "    # форматирую датафрейм: выставляю оценку пользователя в формате float64\n",
    "    movies_ratings_df_new['liked'] = movies_ratings_df_new['like'].map({True: 1.0, False: 0.0})\n",
    "\n",
    "    # форматирую датафрейм: только нужные колонки\n",
    "    movies_ratings_df_new = movies_ratings_df_new[['new_user_id', 'movie_id', 'item_id', 'liked']]\n",
    "    movies_ratings_df_new = movies_ratings_df_new.rename(columns={'new_user_id': 'user_id', 'new_movie_id': 'item_id'})\n",
    "    \n",
    "    return movies_ratings_df_new"
   ]
  },
  {
   "cell_type": "markdown",
   "id": "ca5b2d85",
   "metadata": {},
   "source": [
    "### Книги"
   ]
  },
  {
   "cell_type": "code",
   "execution_count": 51,
   "id": "cb4510b9",
   "metadata": {},
   "outputs": [
    {
     "data": {
      "text/plain": [
       "25468"
      ]
     },
     "execution_count": 51,
     "metadata": {},
     "output_type": "execute_result"
    }
   ],
   "source": [
    "books_dataset = Dataset.get(\n",
    "    dataset_id='3f5f71caa9ae4709b827c5dd88e7253a',  \n",
    "    only_completed=True, \n",
    "    auto_create=False\n",
    ")\n",
    "books_dataset_local_path = books_dataset.get_local_copy()\n",
    "books_data_df = pd.read_csv(f'{books_dataset_local_path}/books.csv', sep='\\t')\n",
    "books_ratings_df = pd.read_csv(f'{books_dataset_local_path}/ratings.csv', sep='\\t')\n",
    "books_genres_df = pd.read_csv(f'{books_dataset_local_path}/genres.csv', sep='\\t')\n"
   ]
  },
  {
   "cell_type": "code",
   "execution_count": 6,
   "id": "1bdb6663",
   "metadata": {},
   "outputs": [],
   "source": [
    "def get_formatted_books_ratings():\n",
    "    # форматирую датафрейм: последовательные идентификаторы для пользователей\n",
    "    books_ratings_df_new = books_ratings_df.copy()\n",
    "    books_ratings_df_new_users = books_ratings_df_new['user_id'].unique()\n",
    "    books_ratings_df_new_users = pd.DataFrame(books_ratings_df_new_users, columns=['user_id'])\n",
    "    books_ratings_df_new_users['new_user_id'] = books_ratings_df_new_users.apply(lambda x: x.index)\n",
    "    books_ratings_df_new = books_ratings_df_new.merge(books_ratings_df_new_users, on='user_id', how='left')\n",
    "\n",
    "    # форматирую датафрейм: последовательные идентификаторы для книг\n",
    "    books_ratings_df_new_books = books_ratings_df_new['isbn'].unique()\n",
    "    books_ratings_df_new_books = pd.DataFrame(books_ratings_df_new_books, columns=['isbn'])\n",
    "    books_ratings_df_new_books['item_id'] = books_ratings_df_new_books.apply(lambda x: x.index)\n",
    "    books_ratings_df_new = books_ratings_df_new.merge(books_ratings_df_new_books, on='isbn', how='left')\n",
    "\n",
    "    # форматирую датафрейм: выставляю оценку пользователя в формате float64\n",
    "    books_ratings_df_new['liked'] = books_ratings_df_new['like'].map({True: 1.0, False: 0.0})\n",
    "\n",
    "    # форматирую датафрейм: только нужные колонки\n",
    "    books_ratings_df_new = books_ratings_df_new[['new_user_id', 'isbn', 'item_id', 'liked']]\n",
    "    books_ratings_df_new = books_ratings_df_new.rename(columns={'new_user_id': 'user_id'})\n",
    "    \n",
    "    return books_ratings_df_new"
   ]
  },
  {
   "cell_type": "markdown",
   "id": "9c0ce3f7",
   "metadata": {},
   "source": [
    "### Музыка"
   ]
  },
  {
   "cell_type": "code",
   "execution_count": 54,
   "id": "9ac52878",
   "metadata": {},
   "outputs": [
    {
     "data": {
      "text/html": [
       "<div>\n",
       "<style scoped>\n",
       "    .dataframe tbody tr th:only-of-type {\n",
       "        vertical-align: middle;\n",
       "    }\n",
       "\n",
       "    .dataframe tbody tr th {\n",
       "        vertical-align: top;\n",
       "    }\n",
       "\n",
       "    .dataframe thead th {\n",
       "        text-align: right;\n",
       "    }\n",
       "</style>\n",
       "<table border=\"1\" class=\"dataframe\">\n",
       "  <thead>\n",
       "    <tr style=\"text-align: right;\">\n",
       "      <th></th>\n",
       "      <th>track_id</th>\n",
       "      <th>artist</th>\n",
       "      <th>name</th>\n",
       "      <th>energy</th>\n",
       "      <th>genre</th>\n",
       "      <th>duration</th>\n",
       "    </tr>\n",
       "  </thead>\n",
       "  <tbody>\n",
       "    <tr>\n",
       "      <th>0</th>\n",
       "      <td>14msK75pk3pA33pzPVNtBF</td>\n",
       "      <td>Ariana Grande</td>\n",
       "      <td>7 rings</td>\n",
       "      <td>0.3210</td>\n",
       "      <td>pop</td>\n",
       "      <td>179.0</td>\n",
       "    </tr>\n",
       "    <tr>\n",
       "      <th>1</th>\n",
       "      <td>4kV4N9D1iKVxx1KLvtTpjS</td>\n",
       "      <td>Ariana Grande</td>\n",
       "      <td>break up with your girlfriend, i'm bored</td>\n",
       "      <td>0.5540</td>\n",
       "      <td>dance</td>\n",
       "      <td>190.0</td>\n",
       "    </tr>\n",
       "    <tr>\n",
       "      <th>2</th>\n",
       "      <td>6MWtB6iiXyIwun0YzU6DFP</td>\n",
       "      <td>Post Malone</td>\n",
       "      <td>Wow.</td>\n",
       "      <td>0.5390</td>\n",
       "      <td>pop</td>\n",
       "      <td>150.0</td>\n",
       "    </tr>\n",
       "    <tr>\n",
       "      <th>3</th>\n",
       "      <td>5w9c2J52mkdntKOmRLeM2m</td>\n",
       "      <td>Daddy Yankee</td>\n",
       "      <td>Con Calma</td>\n",
       "      <td>0.8600</td>\n",
       "      <td>pop</td>\n",
       "      <td>193.0</td>\n",
       "    </tr>\n",
       "    <tr>\n",
       "      <th>4</th>\n",
       "      <td>5p7ujcrUXASCNwRaWNHR1C</td>\n",
       "      <td>Halsey</td>\n",
       "      <td>Without Me</td>\n",
       "      <td>0.4880</td>\n",
       "      <td>dance</td>\n",
       "      <td>202.0</td>\n",
       "    </tr>\n",
       "    <tr>\n",
       "      <th>...</th>\n",
       "      <td>...</td>\n",
       "      <td>...</td>\n",
       "      <td>...</td>\n",
       "      <td>...</td>\n",
       "      <td>...</td>\n",
       "      <td>...</td>\n",
       "    </tr>\n",
       "    <tr>\n",
       "      <th>127875</th>\n",
       "      <td>44WvvizDLJtsZwrTGu302j</td>\n",
       "      <td>Jarabe De Palo</td>\n",
       "      <td>No te duermas</td>\n",
       "      <td>0.6160</td>\n",
       "      <td>alternative</td>\n",
       "      <td>207.0</td>\n",
       "    </tr>\n",
       "    <tr>\n",
       "      <th>127876</th>\n",
       "      <td>3I9g5NS1BtK1ES0OnD6qLa</td>\n",
       "      <td>Agustín Barrios Mangoré</td>\n",
       "      <td>Variación al estudio No. 6</td>\n",
       "      <td>0.1200</td>\n",
       "      <td>classical</td>\n",
       "      <td>64.0</td>\n",
       "    </tr>\n",
       "    <tr>\n",
       "      <th>127877</th>\n",
       "      <td>3uu0paJlCBa5TXsWfSjZEQ</td>\n",
       "      <td>Betty Wright</td>\n",
       "      <td>All Your Kissin' Sho' Don't Make True Lovin'</td>\n",
       "      <td>0.6590</td>\n",
       "      <td>soul</td>\n",
       "      <td>158.0</td>\n",
       "    </tr>\n",
       "    <tr>\n",
       "      <th>127878</th>\n",
       "      <td>55DsyHkEEvXw9St68yBQex</td>\n",
       "      <td>Giovanni Battista Sammartini</td>\n",
       "      <td>II. Adagio</td>\n",
       "      <td>0.0537</td>\n",
       "      <td>classical</td>\n",
       "      <td>124.0</td>\n",
       "    </tr>\n",
       "    <tr>\n",
       "      <th>127879</th>\n",
       "      <td>6Ex9PMZd9ddKSKYMgqdjvF</td>\n",
       "      <td>Luciano</td>\n",
       "      <td>Strive</td>\n",
       "      <td>0.4940</td>\n",
       "      <td>reggae</td>\n",
       "      <td>241.0</td>\n",
       "    </tr>\n",
       "  </tbody>\n",
       "</table>\n",
       "<p>127880 rows × 6 columns</p>\n",
       "</div>"
      ],
      "text/plain": [
       "                      track_id                        artist  \\\n",
       "0       14msK75pk3pA33pzPVNtBF                 Ariana Grande   \n",
       "1       4kV4N9D1iKVxx1KLvtTpjS                 Ariana Grande   \n",
       "2       6MWtB6iiXyIwun0YzU6DFP                   Post Malone   \n",
       "3       5w9c2J52mkdntKOmRLeM2m                  Daddy Yankee   \n",
       "4       5p7ujcrUXASCNwRaWNHR1C                        Halsey   \n",
       "...                        ...                           ...   \n",
       "127875  44WvvizDLJtsZwrTGu302j                Jarabe De Palo   \n",
       "127876  3I9g5NS1BtK1ES0OnD6qLa       Agustín Barrios Mangoré   \n",
       "127877  3uu0paJlCBa5TXsWfSjZEQ                  Betty Wright   \n",
       "127878  55DsyHkEEvXw9St68yBQex  Giovanni Battista Sammartini   \n",
       "127879  6Ex9PMZd9ddKSKYMgqdjvF                       Luciano   \n",
       "\n",
       "                                                name  energy        genre  \\\n",
       "0                                            7 rings  0.3210          pop   \n",
       "1           break up with your girlfriend, i'm bored  0.5540        dance   \n",
       "2                                               Wow.  0.5390          pop   \n",
       "3                                          Con Calma  0.8600          pop   \n",
       "4                                         Without Me  0.4880        dance   \n",
       "...                                              ...     ...          ...   \n",
       "127875                                 No te duermas  0.6160  alternative   \n",
       "127876                    Variación al estudio No. 6  0.1200    classical   \n",
       "127877  All Your Kissin' Sho' Don't Make True Lovin'  0.6590         soul   \n",
       "127878                                    II. Adagio  0.0537    classical   \n",
       "127879                                        Strive  0.4940       reggae   \n",
       "\n",
       "        duration  \n",
       "0          179.0  \n",
       "1          190.0  \n",
       "2          150.0  \n",
       "3          193.0  \n",
       "4          202.0  \n",
       "...          ...  \n",
       "127875     207.0  \n",
       "127876      64.0  \n",
       "127877     158.0  \n",
       "127878     124.0  \n",
       "127879     241.0  \n",
       "\n",
       "[127880 rows x 6 columns]"
      ]
     },
     "execution_count": 54,
     "metadata": {},
     "output_type": "execute_result"
    }
   ],
   "source": [
    "tracks_dataset = Dataset.get(\n",
    "    dataset_id='dc72aebbbee64810a590a4c5bd82c19b',  \n",
    "    only_completed=True, \n",
    "    auto_create=False\n",
    ")\n",
    "tracks_dataset_local_path = tracks_dataset.get_local_copy()\n",
    "tracks_data_df = pd.read_csv(f'{tracks_dataset_local_path}/tracks.csv', sep='\\t')\n",
    "tracks_ratings_df = pd.read_csv(f'{tracks_dataset_local_path}/ratings.csv', sep='\\t')\n",
    "tracks_genres_df = pd.read_csv(f'{tracks_dataset_local_path}/genres.csv', sep='\\t')\n",
    "tracks_data_df"
   ]
  },
  {
   "cell_type": "code",
   "execution_count": 8,
   "id": "dca35f5d",
   "metadata": {},
   "outputs": [],
   "source": [
    "def get_formatted_tracks_ratings():\n",
    "    # форматирую датафрейм: последовательные идентификаторы для пользователей\n",
    "    tracks_ratings_df_new = tracks_ratings_df.copy()\n",
    "    tracks_ratings_df_new_users = tracks_ratings_df_new['user_id'].unique()\n",
    "    tracks_ratings_df_new_users = pd.DataFrame(tracks_ratings_df_new_users, columns=['user_id'])\n",
    "    tracks_ratings_df_new_users['new_user_id'] = tracks_ratings_df_new_users.apply(lambda x: x.index)\n",
    "    tracks_ratings_df_new = tracks_ratings_df_new.merge(tracks_ratings_df_new_users, on='user_id', how='left')\n",
    "\n",
    "    # форматирую датафрейм: последовательные идентификаторы для треков\n",
    "    tracks_ratings_df_new_tracks = tracks_ratings_df_new['track_id'].unique()\n",
    "    tracks_ratings_df_new_tracks = pd.DataFrame(tracks_ratings_df_new_tracks, columns=['track_id'])\n",
    "    tracks_ratings_df_new_tracks['item_id'] = tracks_ratings_df_new_tracks.apply(lambda x: x.index)\n",
    "    tracks_ratings_df_new = tracks_ratings_df_new.merge(tracks_ratings_df_new_tracks, on='track_id', how='left')\n",
    "\n",
    "    # форматирую датафрейм: выставляю оценку пользователя в формате float64\n",
    "    tracks_ratings_df_new['liked'] = tracks_ratings_df_new['like'].map({True: 1.0, False: 0.0})\n",
    "\n",
    "    # форматирую датафрейм: только нужные колонки\n",
    "    tracks_ratings_df_new = tracks_ratings_df_new[['new_user_id', 'track_id', 'item_id', 'liked']]\n",
    "    tracks_ratings_df_new = tracks_ratings_df_new.rename(columns={'new_user_id': 'user_id'})\n",
    "    \n",
    "    return tracks_ratings_df_new"
   ]
  },
  {
   "cell_type": "markdown",
   "id": "47956530",
   "metadata": {},
   "source": [
    "## Коллаборативная фильтрация на основе матричной факторизации"
   ]
  },
  {
   "cell_type": "code",
   "execution_count": 9,
   "id": "d9664f84",
   "metadata": {},
   "outputs": [],
   "source": [
    "from scipy.sparse.linalg import svds\n",
    "from scipy.sparse import csr_matrix\n",
    "from sklearn.metrics import mean_squared_error\n",
    "\n",
    "# предсказание рейтинга\n",
    "def predict_rating_svds(predicted_ratings, user_id, item_id):\n",
    "    predicted_rating = predicted_ratings[user_id][item_id]\n",
    "    return predicted_rating\n",
    "\n",
    "# тестирование с помощью метрики RMSE\n",
    "def test_algorithm_svds(predicted_ratings, test_data):\n",
    "    # получение фактических оценок из тестовой выборки\n",
    "    test_ratings = []\n",
    "    for index, row in test_data.iterrows():\n",
    "        user_id = int(row['user_id'])\n",
    "        item_id = int(row['item_id'])\n",
    "        rating = row['liked']\n",
    "        test_ratings.append((user_id, item_id, rating))\n",
    "\n",
    "    # получение предсказанных оценок из матрицы предсказанных оценок\n",
    "    result_ratings = []\n",
    "    for index, row in test_data.iterrows():\n",
    "        user_id = int(row['user_id'])\n",
    "        item_id = int(row['item_id'])\n",
    "        predicted_rating = predict_rating_svds(predicted_ratings, user_id, item_id)\n",
    "        result_ratings.append((user_id, item_id, predicted_rating))\n",
    "\n",
    "    # расчет RMSE между фактическими и предсказанными оценками\n",
    "    rmse = np.sqrt(mean_squared_error(test_ratings, result_ratings))\n",
    "    return rmse\n",
    "\n",
    "# формирование матрицы пользователь-элемент-рейтинг\n",
    "def make_user_item_matrix_svds(ratings_df):\n",
    "    user_item_matrix = ratings_df.pivot_table(index='user_id', columns='item_id', values='liked')\n",
    "    return user_item_matrix.fillna(0)"
   ]
  },
  {
   "cell_type": "markdown",
   "id": "6e4255de",
   "metadata": {},
   "source": [
    "### Фильмы"
   ]
  },
  {
   "cell_type": "code",
   "execution_count": 10,
   "id": "85e9b930",
   "metadata": {},
   "outputs": [],
   "source": [
    "def run_movies_svds():\n",
    "    movies_ratings_df_new = get_formatted_movies_ratings()\n",
    "    \n",
    "    task = Task.init(\n",
    "        project_name='MoodStream', \n",
    "        task_name='SVDS_Movies', \n",
    "        tags=['SVDS', 'Movies'])\n",
    "\n",
    "    log = Logger.current_logger()\n",
    "\n",
    "    # готовлю матрицу для использования в svds\n",
    "    user_movies_matrix = make_user_item_matrix_svds(movies_ratings_df_new)\n",
    "    \n",
    "    # разделение данных на обучающую и тестовую выборки\n",
    "    train_data = movies_ratings_df_new.sample(frac=0.8, random_state=RANDOM_STATE)\n",
    "    test_data = movies_ratings_df_new.drop(train_data.index)\n",
    "\n",
    "    # расчет предсказанных оценок на основе обучающей выборки\n",
    "    matrix = csr_matrix(user_movies_matrix.values)\n",
    "    U, sigma, Vt = svds(matrix, k=50)\n",
    "    sigma = np.diag(sigma)\n",
    "    predicted_ratings = np.abs(np.round(np.dot(np.dot(U, sigma), Vt), 0))\n",
    "    \n",
    "    # тестирование алгоритма на тестовой выборке\n",
    "    rmse = test_algorithm_svds(predicted_ratings, test_data)\n",
    "    log.report_single_value(name='RMSE', value=round(rmse, 2))\n",
    "    \n",
    "    task.close()\n",
    "\n",
    "    print(\"Movies RMSE: %.2f\" % rmse)"
   ]
  },
  {
   "cell_type": "markdown",
   "id": "d2146f95",
   "metadata": {},
   "source": [
    "### Книги"
   ]
  },
  {
   "cell_type": "code",
   "execution_count": 11,
   "id": "46715d52",
   "metadata": {},
   "outputs": [],
   "source": [
    "def run_books_svds():\n",
    "    books_ratings_df_new = get_formatted_books_ratings()\n",
    "    \n",
    "    task = Task.init(\n",
    "        project_name='MoodStream', \n",
    "        task_name='SVDS_Books', \n",
    "        tags=['SVDS', 'Books'])\n",
    "\n",
    "    log = Logger.current_logger()\n",
    "    \n",
    "    # готовлю матрицу для использования в svds\n",
    "    user_books_matrix = make_user_item_matrix_svds(books_ratings_df_new)\n",
    "    \n",
    "    # разделение данных на обучающую и тестовую выборки\n",
    "    train_data = books_ratings_df_new.sample(frac=0.8, random_state=RANDOM_STATE)\n",
    "    test_data = books_ratings_df_new.drop(train_data.index)\n",
    "\n",
    "    # расчет предсказанных оценок на основе обучающей выборки\n",
    "    matrix = csr_matrix(user_books_matrix.values)\n",
    "    U, sigma, Vt = svds(matrix, k=50)\n",
    "    sigma = np.diag(sigma)\n",
    "    predicted_ratings = np.abs(np.round(np.dot(np.dot(U, sigma), Vt), 0))\n",
    "    \n",
    "    # тестирование алгоритма на тестовой выборке\n",
    "    rmse = test_algorithm_svds(predicted_ratings, test_data)\n",
    "    log.report_single_value(name='RMSE', value=round(rmse, 2))\n",
    "    \n",
    "    task.close()\n",
    "    \n",
    "    print(\"Books RMSE: %.2f\" % rmse)"
   ]
  },
  {
   "cell_type": "markdown",
   "id": "c4b78126",
   "metadata": {},
   "source": [
    "### Треки"
   ]
  },
  {
   "cell_type": "code",
   "execution_count": 12,
   "id": "af73ab6d",
   "metadata": {},
   "outputs": [],
   "source": [
    "def run_tracks_svds():\n",
    "    tracks_ratings_df_new = get_formatted_tracks_ratings()\n",
    "\n",
    "    task = Task.init(\n",
    "        project_name='MoodStream', \n",
    "        task_name='SVDS_Tracks', \n",
    "        tags=['SVDS', 'Tracks'])\n",
    "\n",
    "    log = Logger.current_logger()\n",
    "    \n",
    "    # готовлю матрицу для использования в svds\n",
    "    user_tracks_matrix = make_user_item_matrix_svds(tracks_ratings_df_new)\n",
    "    \n",
    "    # разделение данных на обучающую и тестовую выборки\n",
    "    train_data = tracks_ratings_df_new.sample(frac=0.8, random_state=RANDOM_STATE)\n",
    "    test_data = tracks_ratings_df_new.drop(train_data.index)\n",
    "\n",
    "    # расчет предсказанных оценок на основе обучающей выборки\n",
    "    matrix = csr_matrix(user_tracks_matrix.values)\n",
    "    U, sigma, Vt = svds(matrix, k=50)\n",
    "    sigma = np.diag(sigma)\n",
    "    predicted_ratings = np.abs(np.round(np.dot(np.dot(U, sigma), Vt), 0))\n",
    "    \n",
    "    # тестирование алгоритма на тестовой выборке\n",
    "    rmse = test_algorithm_svds(predicted_ratings, test_data)\n",
    "    log.report_single_value(name='RMSE', value=round(rmse, 2))\n",
    "    \n",
    "    task.close()\n",
    "    \n",
    "    print(\"Tracks RMSE: %.2f\" % rmse)"
   ]
  },
  {
   "cell_type": "markdown",
   "id": "814112f1",
   "metadata": {},
   "source": [
    "### Проверка"
   ]
  },
  {
   "cell_type": "code",
   "execution_count": 13,
   "id": "08da082f",
   "metadata": {},
   "outputs": [],
   "source": [
    "def run_svds():\n",
    "    run_movies_svds()\n",
    "    run_books_svds()\n",
    "    run_tracks_svds()"
   ]
  },
  {
   "cell_type": "code",
   "execution_count": 14,
   "id": "0b91fabb",
   "metadata": {},
   "outputs": [],
   "source": [
    "#run_svds()"
   ]
  },
  {
   "cell_type": "markdown",
   "id": "4ddf9cec",
   "metadata": {},
   "source": [
    "## Метод k-ближайших соседей"
   ]
  },
  {
   "cell_type": "code",
   "execution_count": 15,
   "id": "fd646216",
   "metadata": {},
   "outputs": [],
   "source": [
    "import pandas as pd\n",
    "import numpy as np\n",
    "from sklearn.neighbors import KNeighborsRegressor\n",
    "from sklearn.metrics import mean_squared_error\n",
    "from sklearn.model_selection import train_test_split\n",
    "\n",
    "def predict_rating_k_neighbors(data, log):\n",
    "    # Разделение данных на обучающую и тестовую выборки\n",
    "    train, test = train_test_split(data, test_size=0.3, random_state=RANDOM_STATE)\n",
    "\n",
    "    # Создание матрицы признаков\n",
    "    X_train = train.drop(['liked'], axis=1)\n",
    "    y_train = train['liked']\n",
    "    X_test = test.drop(['liked'], axis=1)\n",
    "    y_test = test['liked']\n",
    "\n",
    "    # Создание объекта модели k ближайших соседей\n",
    "    model = KNeighborsRegressor(n_neighbors=5)\n",
    "\n",
    "    # Обучение модели\n",
    "    model.fit(X_train, y_train)\n",
    "\n",
    "    # Предсказание на тестовой выборке\n",
    "    y_pred = model.predict(X_test)\n",
    "\n",
    "    # Вычисление RMSE\n",
    "    rmse = np.sqrt(mean_squared_error(y_test, y_pred))\n",
    "    log.report_single_value(name='RMSE', value=round(rmse, 2))\n",
    "        \n",
    "    print(\"RMSE: %.2f\" % rmse)\n"
   ]
  },
  {
   "cell_type": "markdown",
   "id": "deb4a402",
   "metadata": {},
   "source": [
    "### Фильмы"
   ]
  },
  {
   "cell_type": "code",
   "execution_count": 16,
   "id": "8e7e17bc",
   "metadata": {},
   "outputs": [],
   "source": [
    "def run_movies_k_neighbors():\n",
    "    movies_ratings_df_new = get_formatted_movies_ratings()\n",
    "    \n",
    "    task = Task.init(\n",
    "        project_name='MoodStream', \n",
    "        task_name='KNeighbors_Movies', \n",
    "        tags=['KNeighbors', 'Movies'])\n",
    "\n",
    "    log = Logger.current_logger()\n",
    "    \n",
    "    print('MOVIES: ')\n",
    "    predict_rating_k_neighbors(movies_ratings_df_new[['user_id', 'item_id', 'liked']], log)\n",
    "    task.close()"
   ]
  },
  {
   "cell_type": "markdown",
   "id": "45b0ddd6",
   "metadata": {},
   "source": [
    "### Книги"
   ]
  },
  {
   "cell_type": "code",
   "execution_count": 17,
   "id": "600dc2d3",
   "metadata": {},
   "outputs": [],
   "source": [
    "def run_books_k_neighbors():\n",
    "    books_ratings_df_new = get_formatted_books_ratings()\n",
    "    \n",
    "    task = Task.init(\n",
    "        project_name='MoodStream', \n",
    "        task_name='KNeighbors_Books', \n",
    "        tags=['KNeighbors', 'Books'])\n",
    "\n",
    "    log = Logger.current_logger()\n",
    "    \n",
    "    print('BOOKS: ')\n",
    "    predict_rating_k_neighbors(books_ratings_df_new[['user_id', 'item_id', 'liked']], log)\n",
    "    task.close()"
   ]
  },
  {
   "cell_type": "markdown",
   "id": "6150e286",
   "metadata": {},
   "source": [
    "### Треки"
   ]
  },
  {
   "cell_type": "code",
   "execution_count": 18,
   "id": "83836b31",
   "metadata": {},
   "outputs": [],
   "source": [
    "def run_tracks_k_neighbors():\n",
    "    tracks_ratings_df_new = get_formatted_tracks_ratings()\n",
    "\n",
    "    task = Task.init(\n",
    "        project_name='MoodStream', \n",
    "        task_name='KNeighbors_Tracks', \n",
    "        tags=['KNeighbors', 'Tracks'])\n",
    "\n",
    "    log = Logger.current_logger()\n",
    "    \n",
    "    print('TRACKS: ')\n",
    "    predict_rating_k_neighbors(tracks_ratings_df_new[['user_id', 'item_id', 'liked']], log)\n",
    "    task.close()"
   ]
  },
  {
   "cell_type": "markdown",
   "id": "c957bfe1",
   "metadata": {},
   "source": [
    "### Проверка"
   ]
  },
  {
   "cell_type": "code",
   "execution_count": 19,
   "id": "b660ce27",
   "metadata": {},
   "outputs": [],
   "source": [
    "def run_k_neighbors():\n",
    "    run_movies_k_neighbors()\n",
    "    run_books_k_neighbors()\n",
    "    run_tracks_k_neighbors()    "
   ]
  },
  {
   "cell_type": "code",
   "execution_count": 20,
   "id": "bcbe5d5b",
   "metadata": {},
   "outputs": [],
   "source": [
    "# run_k_neighbors()"
   ]
  },
  {
   "cell_type": "markdown",
   "id": "35a97eda",
   "metadata": {},
   "source": [
    "## Линейная регрессия"
   ]
  },
  {
   "cell_type": "code",
   "execution_count": 21,
   "id": "dbed1ab9",
   "metadata": {},
   "outputs": [],
   "source": [
    "import pandas as pd\n",
    "import numpy as np\n",
    "from sklearn.linear_model import LinearRegression\n",
    "from sklearn.metrics import mean_squared_error\n",
    "from sklearn.model_selection import train_test_split, GridSearchCV, RandomizedSearchCV\n",
    "\n",
    "with_grid_search = True\n",
    "with_random_search = False\n",
    "\n",
    "def predict_rating_linear_regression(data, log, search_type=None):\n",
    "    # Разделение данных на обучающую и тестовую выборки\n",
    "    train, test = train_test_split(data, test_size=0.3, random_state=RANDOM_STATE)\n",
    "\n",
    "    # Создание матрицы признаков\n",
    "    X_train = train.drop(['liked'], axis=1)\n",
    "    y_train = train['liked']\n",
    "    X_test = test.drop(['liked'], axis=1)\n",
    "    y_test = test['liked']\n",
    "\n",
    "    # Создание объекта модели линейной регрессии\n",
    "    model = LinearRegression()\n",
    "    \n",
    "    if search_type == 1:\n",
    "        # Определение сетки гиперпараметров\n",
    "        param_grid = {'fit_intercept': [True, False],\n",
    "                      'copy_X': [True, False],\n",
    "                      'n_jobs': [-1, None],\n",
    "                      'positive': [True, False]}\n",
    "\n",
    "        # Создание объекта Grid Search\n",
    "        model = GridSearchCV(model, param_grid=param_grid, cv=5)\n",
    "\n",
    "    # Обучение модели\n",
    "    model.fit(X_train, y_train)\n",
    "\n",
    "    # Использование порогового значения для принятия решения\n",
    "#     threshold = 0.5\n",
    "#     y_pred = np.where(model.predict(X_test) > threshold, 1.0, 0.0)\n",
    "    y_pred = model.predict(X_test)\n",
    "\n",
    "    # Вычисление RMSE\n",
    "    rmse = np.sqrt(mean_squared_error(y_test, y_pred))\n",
    "    log.report_single_value(name='RMSE', value=round(rmse, 2))\n",
    "        \n",
    "    print(\"RMSE: %.2f\" % rmse)\n",
    "    \n",
    "    if search_type == 1:\n",
    "        # Вывод лучших гиперпараметров\n",
    "        print(\"Best hyperparameters: \", model.best_params_)\n"
   ]
  },
  {
   "cell_type": "markdown",
   "id": "27677324",
   "metadata": {},
   "source": [
    "### Фильмы"
   ]
  },
  {
   "cell_type": "code",
   "execution_count": 22,
   "id": "0cba8701",
   "metadata": {},
   "outputs": [],
   "source": [
    "def run_movies_linear_regression():\n",
    "    movies_ratings_df_new = get_formatted_movies_ratings()\n",
    "    \n",
    "    task = Task.init(\n",
    "        project_name='MoodStream', \n",
    "        task_name='LinearRegression_Movies', \n",
    "        tags=['LinearRegression', 'Movies'])\n",
    "\n",
    "    log = Logger.current_logger()\n",
    "    \n",
    "    print('MOVIES: ')\n",
    "    predict_rating_linear_regression(movies_ratings_df_new[['user_id', 'item_id', 'liked']], log)\n",
    "    task.close()\n"
   ]
  },
  {
   "cell_type": "markdown",
   "id": "0ffa604d",
   "metadata": {},
   "source": [
    "### Книги"
   ]
  },
  {
   "cell_type": "code",
   "execution_count": 23,
   "id": "605c4b49",
   "metadata": {},
   "outputs": [],
   "source": [
    "def run_books_linear_regression():\n",
    "    books_ratings_df_new = get_formatted_books_ratings()\n",
    "    \n",
    "    task = Task.init(\n",
    "        project_name='MoodStream', \n",
    "        task_name='LinearRegression_Books', \n",
    "        tags=['LinearRegression', 'Books'])\n",
    "\n",
    "    log = Logger.current_logger()\n",
    "    \n",
    "    print('BOOKS: ')\n",
    "    predict_rating_linear_regression(books_ratings_df_new[['user_id', 'item_id', 'liked']], log)\n",
    "    task.close()"
   ]
  },
  {
   "cell_type": "markdown",
   "id": "5022310c",
   "metadata": {},
   "source": [
    "### Треки"
   ]
  },
  {
   "cell_type": "code",
   "execution_count": 24,
   "id": "5b0a8f49",
   "metadata": {},
   "outputs": [],
   "source": [
    "def run_tracks_linear_regression():\n",
    "    tracks_ratings_df_new = get_formatted_tracks_ratings()\n",
    "\n",
    "    task = Task.init(\n",
    "        project_name='MoodStream', \n",
    "        task_name='LinearRegression_Tracks', \n",
    "        tags=['LinearRegression', 'Tracks'])\n",
    "\n",
    "    log = Logger.current_logger()\n",
    "    \n",
    "    print('TRACKS: ')\n",
    "    predict_rating_linear_regression(tracks_ratings_df_new[['user_id', 'item_id', 'liked']], log)\n",
    "    task.close()"
   ]
  },
  {
   "cell_type": "markdown",
   "id": "47247ae2",
   "metadata": {},
   "source": [
    "### Проверка"
   ]
  },
  {
   "cell_type": "code",
   "execution_count": 25,
   "id": "0bdd9bf3",
   "metadata": {},
   "outputs": [],
   "source": [
    "def run_linear_regression():\n",
    "    run_movies_linear_regression()\n",
    "    run_books_linear_regression()\n",
    "    run_tracks_linear_regression()"
   ]
  },
  {
   "cell_type": "code",
   "execution_count": 26,
   "id": "354df201",
   "metadata": {},
   "outputs": [],
   "source": [
    "#run_linear_regression()"
   ]
  },
  {
   "cell_type": "markdown",
   "id": "a175a35e",
   "metadata": {},
   "source": [
    "## XGBoost"
   ]
  },
  {
   "cell_type": "code",
   "execution_count": 27,
   "id": "85ff4b90",
   "metadata": {},
   "outputs": [],
   "source": [
    "import pandas as pd\n",
    "import numpy as np\n",
    "from numpy.random import uniform, randint\n",
    "import xgboost as xgb\n",
    "from sklearn.model_selection import train_test_split\n",
    "from sklearn.metrics import mean_squared_error\n",
    "\n",
    "def predict_rating_xgboost(data, log, search_type=None):\n",
    "    # Разделение данных на обучающую и тестовую выборки\n",
    "    train, test = train_test_split(data, test_size=0.3, random_state=RANDOM_STATE)\n",
    "\n",
    "    # Создание матрицы признаков\n",
    "    X_train = train.drop(['liked'], axis=1)\n",
    "    y_train = train['liked']\n",
    "    X_test = test.drop(['liked'], axis=1)\n",
    "    y_test = test['liked']\n",
    "\n",
    "    # Создание и обучение модели\n",
    "    model = xgb.XGBRegressor(max_depth=3, learning_rate=0.1, objective='reg:squarederror')\n",
    "    model.fit(X_train, y_train)\n",
    "\n",
    "    # Предсказание на тестовых данных\n",
    "    y_pred = model.predict(X_test)\n",
    "\n",
    "    # Вычисление RMSE\n",
    "    rmse = np.sqrt(mean_squared_error(y_test, y_pred))\n",
    "\n",
    "    log.report_single_value(name='RMSE', value=round(rmse, 2))\n",
    "    \n",
    "    print(\"RMSE: %.2f\" % rmse)\n",
    "\n",
    "    if search_type == 1:\n",
    "        # Вывод лучших гиперпараметров\n",
    "        print(\"Best hyperparameters: \", model.best_params_)\n",
    "        "
   ]
  },
  {
   "cell_type": "markdown",
   "id": "e0b337ad",
   "metadata": {},
   "source": [
    "### Фильмы"
   ]
  },
  {
   "cell_type": "code",
   "execution_count": 28,
   "id": "3119b92d",
   "metadata": {},
   "outputs": [],
   "source": [
    "def run_movies_xgboost():\n",
    "    movies_ratings_df_new = get_formatted_movies_ratings()\n",
    "\n",
    "    task = Task.init(\n",
    "        project_name='MoodStream', \n",
    "        task_name='XGB_Movies', \n",
    "        tags=['XGB', 'Movies'])\n",
    "\n",
    "    log = Logger.current_logger()\n",
    "    \n",
    "    print('MOVIES: ')\n",
    "    predict_rating_xgboost(movies_ratings_df_new[['user_id', 'item_id', 'liked']], log)\n",
    "    task.close()"
   ]
  },
  {
   "cell_type": "markdown",
   "id": "a1adf58a",
   "metadata": {},
   "source": [
    "### Книги"
   ]
  },
  {
   "cell_type": "code",
   "execution_count": 29,
   "id": "d1bfad56",
   "metadata": {},
   "outputs": [],
   "source": [
    "def run_books_xgboost():\n",
    "    books_ratings_df_new = get_formatted_books_ratings()\n",
    "    \n",
    "    task = Task.init(\n",
    "        project_name='MoodStream', \n",
    "        task_name='XGB_Books', \n",
    "        tags=['XGB', 'Books'])\n",
    "\n",
    "    log = Logger.current_logger()\n",
    "    \n",
    "    print('BOOKS: ')\n",
    "    predict_rating_xgboost(books_ratings_df_new[['user_id', 'item_id', 'liked']], log)\n",
    "    task.close()"
   ]
  },
  {
   "cell_type": "markdown",
   "id": "30a6f3ab",
   "metadata": {},
   "source": [
    "### Треки"
   ]
  },
  {
   "cell_type": "code",
   "execution_count": 30,
   "id": "070ca560",
   "metadata": {},
   "outputs": [],
   "source": [
    "def run_tracks_xgboost():\n",
    "    tracks_ratings_df_new = get_formatted_tracks_ratings()\n",
    "\n",
    "    task = Task.init(\n",
    "        project_name='MoodStream', \n",
    "        task_name='XGB_Tracks', \n",
    "        tags=['XGB', 'Tracks'])\n",
    "\n",
    "    log = Logger.current_logger()\n",
    "    \n",
    "    print('TRACKS: ')\n",
    "    predict_rating_xgboost(tracks_ratings_df_new[['user_id', 'item_id', 'liked']], log)\n",
    "    task.close()"
   ]
  },
  {
   "cell_type": "markdown",
   "id": "09d442f5",
   "metadata": {},
   "source": [
    "### Проверка"
   ]
  },
  {
   "cell_type": "code",
   "execution_count": 31,
   "id": "688abbfd",
   "metadata": {},
   "outputs": [],
   "source": [
    "def run_xgboost():\n",
    "    run_movies_xgboost()\n",
    "    run_books_xgboost()\n",
    "    run_tracks_xgboost()"
   ]
  },
  {
   "cell_type": "code",
   "execution_count": 32,
   "id": "bcd0b072",
   "metadata": {},
   "outputs": [],
   "source": [
    "# run_xgboost()"
   ]
  },
  {
   "cell_type": "markdown",
   "id": "8009ee36",
   "metadata": {},
   "source": [
    "## CatBoost"
   ]
  },
  {
   "cell_type": "code",
   "execution_count": 33,
   "id": "9db290ed",
   "metadata": {},
   "outputs": [],
   "source": [
    "import pandas as pd\n",
    "import numpy as np\n",
    "from catboost import CatBoostRegressor\n",
    "from sklearn.metrics import mean_squared_error\n",
    "from sklearn.model_selection import train_test_split, GridSearchCV\n"
   ]
  },
  {
   "cell_type": "code",
   "execution_count": 34,
   "id": "454c8a39",
   "metadata": {},
   "outputs": [],
   "source": [
    "def predict_rating_catboost(data, log):\n",
    "    # Разделение данных на обучающую и тестовую выборки\n",
    "    train, test = train_test_split(data, test_size=0.3, random_state=RANDOM_STATE)\n",
    "\n",
    "    # Создание матрицы признаков\n",
    "    X_train = train.drop(['liked'], axis=1)\n",
    "    y_train = train['liked']\n",
    "    X_test = test.drop(['liked'], axis=1)\n",
    "    y_test = test['liked']\n",
    "\n",
    "    # Обучение модели\n",
    "    model = CatBoostRegressor(depth=3, iterations=3000, learning_rate=0.07, loss_function='RMSE')\n",
    "    model.fit(X_train, y_train, eval_set=(X_test, y_test), verbose=False)\n",
    "\n",
    "    # Предсказание на тестовой выборке\n",
    "    y_pred = model.predict(X_test)\n",
    "\n",
    "    # Вычисление RMSE\n",
    "    rmse = np.sqrt(mean_squared_error(y_test, y_pred))\n",
    "\n",
    "    log.report_single_value(name='RMSE', value=round(rmse, 2))\n",
    "\n",
    "    print(\"RMSE: %.2f\" % rmse)\n"
   ]
  },
  {
   "cell_type": "markdown",
   "id": "42fd1b42",
   "metadata": {},
   "source": [
    "### Фильмы"
   ]
  },
  {
   "cell_type": "code",
   "execution_count": 36,
   "id": "a68d260d",
   "metadata": {},
   "outputs": [],
   "source": [
    "def run_movies_catboost():\n",
    "    movies_ratings_df_new = get_formatted_movies_ratings()\n",
    "    \n",
    "    task = Task.init(\n",
    "        project_name='MoodStream', \n",
    "        task_name='CAT_Movies', \n",
    "        tags=['CAT', 'Movies'])\n",
    "\n",
    "    log = Logger.current_logger()\n",
    "    \n",
    "    print('MOVIES: ')\n",
    "    predict_rating_catboost(movies_ratings_df_new[['user_id', 'item_id', 'liked']], log)\n",
    "    task.close()"
   ]
  },
  {
   "cell_type": "markdown",
   "id": "f20d9381",
   "metadata": {},
   "source": [
    "### Книги"
   ]
  },
  {
   "cell_type": "code",
   "execution_count": 37,
   "id": "51fb8676",
   "metadata": {},
   "outputs": [],
   "source": [
    "def run_books_catboost():\n",
    "    books_ratings_df_new = get_formatted_books_ratings()\n",
    "    \n",
    "    task = Task.init(\n",
    "        project_name='MoodStream', \n",
    "        task_name='CAT_Books', \n",
    "        tags=['CAT', 'Books'])\n",
    "\n",
    "    log = Logger.current_logger()\n",
    "    \n",
    "    print('BOOKS: ')\n",
    "    predict_rating_catboost(books_ratings_df_new[['user_id', 'item_id', 'liked']], log)\n",
    "    task.close()"
   ]
  },
  {
   "cell_type": "markdown",
   "id": "92e16dbf",
   "metadata": {},
   "source": [
    "### Треки"
   ]
  },
  {
   "cell_type": "code",
   "execution_count": 39,
   "id": "e80014ca",
   "metadata": {},
   "outputs": [],
   "source": [
    "def run_tracks_catboost():\n",
    "    tracks_ratings_df_new = get_formatted_tracks_ratings()\n",
    "\n",
    "    task = Task.init(\n",
    "        project_name='MoodStream', \n",
    "        task_name='CAT_Tracks', \n",
    "        tags=['CAT', 'Tracks'])\n",
    "\n",
    "    log = Logger.current_logger()\n",
    "    \n",
    "    print('TRACKS: ')\n",
    "    predict_rating_catboost(tracks_ratings_df_new[['user_id', 'item_id', 'liked']], log)\n",
    "    task.close()"
   ]
  },
  {
   "cell_type": "markdown",
   "id": "e83241b1",
   "metadata": {},
   "source": [
    "### Проверка"
   ]
  },
  {
   "cell_type": "code",
   "execution_count": 40,
   "id": "1280d783",
   "metadata": {},
   "outputs": [],
   "source": [
    "def run_catboost():\n",
    "    run_movies_catboost()\n",
    "    run_books_catboost()\n",
    "    run_tracks_catboost()"
   ]
  },
  {
   "cell_type": "code",
   "execution_count": 42,
   "id": "71f3e228",
   "metadata": {},
   "outputs": [
    {
     "name": "stdout",
     "output_type": "stream",
     "text": [
      "ClearML Task: created new task id=a55d258596eb4f5ba42d5c5d4e977f9c\n",
      "2023-05-29 16:56:27,276 - clearml.Task - INFO - Storing jupyter notebook directly as code\n",
      "ClearML results page: https://app.clear.ml/projects/6c491672b60c48b295085670f2b38cb0/experiments/a55d258596eb4f5ba42d5c5d4e977f9c/output/log\n",
      "TRACKS: \n",
      "ClearML Monitor: GPU monitoring failed getting GPU reading, switching off GPU monitoring\n",
      "RMSE: 0.44\n"
     ]
    }
   ],
   "source": [
    "# run_catboost()"
   ]
  },
  {
   "cell_type": "code",
   "execution_count": null,
   "id": "c76d608c",
   "metadata": {},
   "outputs": [],
   "source": []
  }
 ],
 "metadata": {
  "kernelspec": {
   "display_name": "Python 3 (ipykernel)",
   "language": "python",
   "name": "python3"
  },
  "language_info": {
   "codemirror_mode": {
    "name": "ipython",
    "version": 3
   },
   "file_extension": ".py",
   "mimetype": "text/x-python",
   "name": "python",
   "nbconvert_exporter": "python",
   "pygments_lexer": "ipython3",
   "version": "3.10.9"
  }
 },
 "nbformat": 4,
 "nbformat_minor": 5
}
