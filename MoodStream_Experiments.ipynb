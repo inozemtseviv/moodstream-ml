{
 "cells": [
  {
   "cell_type": "markdown",
   "id": "78e92282",
   "metadata": {},
   "source": [
    "# MoodStream: Эксперименты "
   ]
  },
  {
   "cell_type": "markdown",
   "id": "fbd2275e",
   "metadata": {},
   "source": [
    "Основная задача заключается в подборе модели с удовлетворительным процентом ошибок и приемлемым временем выполнения.\n",
    "\n",
    "---"
   ]
  },
  {
   "cell_type": "markdown",
   "id": "f8ac9e01",
   "metadata": {},
   "source": [
    "## Импорты"
   ]
  },
  {
   "cell_type": "code",
   "execution_count": 1,
   "id": "0f13b1ea",
   "metadata": {},
   "outputs": [],
   "source": [
    "import pandas as pd\n",
    "import numpy as np\n",
    "import requests, zipfile, io\n",
    "from sklearn.metrics.pairwise import cosine_similarity\n",
    "import dotenv\n",
    "\n",
    "from clearml import Dataset"
   ]
  },
  {
   "cell_type": "markdown",
   "id": "b1c1e8f3",
   "metadata": {},
   "source": [
    "## ENV"
   ]
  },
  {
   "cell_type": "code",
   "execution_count": 2,
   "id": "7b97a73a",
   "metadata": {},
   "outputs": [
    {
     "name": "stdout",
     "output_type": "stream",
     "text": [
      "env: CLEARML_WEB_HOST=https://app.clear.ml\n",
      "env: CLEARML_API_HOST=https://api.clear.ml\n",
      "env: CLEARML_FILES_HOST=https://files.clear.ml\n"
     ]
    }
   ],
   "source": [
    "# В корне необходим файл .env, устанавливающий значения для переменных CLEARML_API_ACCESS_KEY и CLEARML_API_SECRET_KEY\n",
    "%env CLEARML_WEB_HOST=https://app.clear.ml\n",
    "%env CLEARML_API_HOST=https://api.clear.ml\n",
    "%env CLEARML_FILES_HOST=https://files.clear.ml\n",
    "    \n",
    "%load_ext dotenv\n",
    "%dotenv"
   ]
  },
  {
   "cell_type": "markdown",
   "id": "62645f58",
   "metadata": {},
   "source": [
    "## Данные"
   ]
  },
  {
   "cell_type": "markdown",
   "id": "bb57dc2f",
   "metadata": {},
   "source": [
    "### Фильмы"
   ]
  },
  {
   "cell_type": "code",
   "execution_count": 3,
   "id": "c1840cb3",
   "metadata": {},
   "outputs": [
    {
     "name": "stdout",
     "output_type": "stream",
     "text": [
      "MOVIES:\n",
      "                                              poster  \\\n",
      "0  https://m.media-amazon.com/images/M/MV5BMDFkYT...   \n",
      "1  https://m.media-amazon.com/images/M/MV5BM2MyNj...   \n",
      "2  https://m.media-amazon.com/images/M/MV5BMTMxNT...   \n",
      "3  https://m.media-amazon.com/images/M/MV5BMWMwMG...   \n",
      "4  https://m.media-amazon.com/images/M/MV5BMWU4N2...   \n",
      "\n",
      "                      title  year  imdb_rating  movie_id  \\\n",
      "0  The Shawshank Redemption  1994          9.3       318   \n",
      "1             The Godfather  1972          9.2       858   \n",
      "2           The Dark Knight  2008          9.0     58559   \n",
      "3    The Godfather: Part II  1974          9.0      1221   \n",
      "4              12 Angry Men  1957          9.0      1203   \n",
      "\n",
      "                        genres  \n",
      "0                  drama,crime  \n",
      "1                  drama,crime  \n",
      "2  drama,action,crime,thriller  \n",
      "3                  drama,crime  \n",
      "4                        drama  \n",
      "RATINGS:\n",
      "   user_id  movie_id  rating   like\n",
      "0    58365        32     5.0  False\n",
      "1    58365       110     5.0  False\n",
      "2    58365       150     5.0  False\n",
      "3    58365       165     3.0  False\n",
      "4    58365       223     5.0  False\n",
      "GENRES:\n",
      "       genre\n",
      "0     action\n",
      "1  adventure\n",
      "2  animation\n",
      "3     comedy\n",
      "4      crime\n"
     ]
    }
   ],
   "source": [
    "movies_dataset = Dataset.get(\n",
    "    dataset_id='9059bbbf193b4aa688ab63642e489ea8',  \n",
    "    only_completed=True, \n",
    "    auto_create=False\n",
    ")\n",
    "movies_dataset_local_path = movies_dataset.get_local_copy()\n",
    "movies_data_df = pd.read_csv(f'{movies_dataset_local_path}/movies.csv', sep='\\t')\n",
    "movies_ratings_df = pd.read_csv(f'{movies_dataset_local_path}/ratings.csv', sep='\\t')\n",
    "movies_genres_df = pd.read_csv(f'{movies_dataset_local_path}/genres.csv', sep='\\t')\n",
    "print('MOVIES:')\n",
    "print(movies_data_df.head(5))\n",
    "print('RATINGS:')\n",
    "print(movies_ratings_df.head(5))\n",
    "print('GENRES:')\n",
    "print(movies_genres_df.head(5))"
   ]
  },
  {
   "cell_type": "markdown",
   "id": "ca5b2d85",
   "metadata": {},
   "source": [
    "### Книги"
   ]
  },
  {
   "cell_type": "code",
   "execution_count": 4,
   "id": "cb4510b9",
   "metadata": {},
   "outputs": [],
   "source": [
    "# books_dataset = Dataset.get(\n",
    "#     dataset_id='3f5f71caa9ae4709b827c5dd88e7253a',  \n",
    "#     only_completed=True, \n",
    "#     auto_create=False\n",
    "# )\n",
    "# books_dataset_local_path = books_dataset.get_local_copy()\n",
    "# books_data_df = pd.read_csv(f'{books_dataset_local_path}/books.csv', sep='\\t')\n",
    "# books_ratings_df = pd.read_csv(f'{books_dataset_local_path}/ratings.csv', sep='\\t')\n",
    "# books_genres_df = pd.read_csv(f'{books_dataset_local_path}/genres.csv', sep='\\t')\n",
    "# print('BOOKS:')\n",
    "# print(books_data_df.head(5))\n",
    "# print('RATINGS:')\n",
    "# print(books_ratings_df.head(5))\n",
    "# print('GENRES:')\n",
    "# print(books_genres_df.head(5))"
   ]
  },
  {
   "cell_type": "markdown",
   "id": "9c0ce3f7",
   "metadata": {},
   "source": [
    "### Музыка"
   ]
  },
  {
   "cell_type": "code",
   "execution_count": 5,
   "id": "9ac52878",
   "metadata": {},
   "outputs": [],
   "source": [
    "# tracks_dataset = Dataset.get(\n",
    "#     dataset_id='dc72aebbbee64810a590a4c5bd82c19b',  \n",
    "#     only_completed=True, \n",
    "#     auto_create=False\n",
    "# )\n",
    "# tracks_dataset_local_path = tracks_dataset.get_local_copy()\n",
    "# tracks_data_df = pd.read_csv(f'{tracks_dataset_local_path}/tracks.csv', sep='\\t')\n",
    "# tracks_ratings_df = pd.read_csv(f'{tracks_dataset_local_path}/ratings.csv', sep='\\t')\n",
    "# tracks_genres_df = pd.read_csv(f'{tracks_dataset_local_path}/genres.csv', sep='\\t')\n",
    "# print('TRACKS:')\n",
    "# print(tracks_data_df.head(5))\n",
    "# print('RATINGS:')\n",
    "# print(tracks_ratings_df.head(5))\n",
    "# print('GENRES:')\n",
    "# print(tracks_genres_df.head(5))"
   ]
  },
  {
   "cell_type": "markdown",
   "id": "4ddf9cec",
   "metadata": {},
   "source": [
    "## User-based коллаборативная фильтрация"
   ]
  },
  {
   "cell_type": "code",
   "execution_count": null,
   "id": "fd646216",
   "metadata": {},
   "outputs": [],
   "source": [
    "# создание матрицы пользователь-фильм\n",
    "user_movie_matrix = movies_ratings_df.pivot_table(index='user_id', columns='movie_id', values='rating')\n",
    "\n",
    "# заполнение пропущенных значений нулями\n",
    "user_movie_matrix = user_movie_matrix.fillna(0)\n",
    "\n",
    "# расчет сходства пользователей\n",
    "user_similarity = cosine_similarity(user_movie_matrix)\n",
    "\n",
    "# функция для предсказания оценки пользователя для фильма\n",
    "def predict_rating(user_movie_matrix, user_similarity, user_id, movie_id, k):\n",
    "    # получение оценок пользователя\n",
    "    user_ratings = user_movie_matrix.loc[user_id]\n",
    "    \n",
    "    # расчет сходства пользователя с другими пользователями\n",
    "    similarity_scores = pd.Series(user_similarity[user_id])\n",
    "    \n",
    "    # фильтрация пользователей, которые оценили данный фильм\n",
    "    similar_users = user_movie_matrix[movie_id][user_movie_matrix[movie_id] > 0].index\n",
    "    \n",
    "    # фильтрация k наиболее похожих пользователей\n",
    "    similar_users = similarity_scores[similarity_scores > 0].sort_values(ascending=False).head(k).index\n",
    "    \n",
    "    # получение оценок похожих пользователей для данного фильма\n",
    "    similar_ratings = user_movie_matrix.loc[similar_users, movie_id]\n",
    "    \n",
    "    # расчет взвешенного среднего рейтинга на основе оценок похожих пользователей\n",
    "    if len(similar_ratings) > 0:\n",
    "        weighted_ratings = similar_ratings * similarity_scores.loc[similar_users]\n",
    "        predicted_rating = weighted_ratings.sum() / similarity_scores.loc[similar_users].sum()\n",
    "    else:\n",
    "        predicted_rating = user_ratings.mean()\n",
    "    \n",
    "    return predicted_rating\n",
    "\n",
    "# пример использования функции для предсказания оценки пользователя для фильма\n",
    "user_id = 58365\n",
    "movie_id = 32\n",
    "k = 10\n",
    "predicted_rating = predict_rating(user_movie_matrix, user_similarity, user_id, movie_id, k)\n",
    "print('Predicted rating for user', user_id, 'and movie', movie_id, ':', predicted_rating)\n"
   ]
  },
  {
   "cell_type": "code",
   "execution_count": null,
   "id": "8e7e17bc",
   "metadata": {},
   "outputs": [],
   "source": []
  }
 ],
 "metadata": {
  "kernelspec": {
   "display_name": "Python 3 (ipykernel)",
   "language": "python",
   "name": "python3"
  },
  "language_info": {
   "codemirror_mode": {
    "name": "ipython",
    "version": 3
   },
   "file_extension": ".py",
   "mimetype": "text/x-python",
   "name": "python",
   "nbconvert_exporter": "python",
   "pygments_lexer": "ipython3",
   "version": "3.10.9"
  }
 },
 "nbformat": 4,
 "nbformat_minor": 5
}
